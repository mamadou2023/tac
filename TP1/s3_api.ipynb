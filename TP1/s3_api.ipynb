{
 "cells": [
  {
   "cell_type": "markdown",
   "metadata": {},
   "source": [
    "# APIs: requêtes HTTP"
   ]
  },
  {
   "cell_type": "markdown",
   "metadata": {},
   "source": [
    "## Imports"
   ]
  },
  {
   "cell_type": "code",
   "execution_count": 1,
   "metadata": {},
   "outputs": [],
   "source": [
    "import json\n",
    "import requests\n",
    "import textrazor"
   ]
  },
  {
   "cell_type": "markdown",
   "metadata": {},
   "source": [
    "## Géolocalisation de textes avec TextRazor"
   ]
  },
  {
   "cell_type": "code",
   "execution_count": null,
   "metadata": {},
   "outputs": [],
   "source": [
    "\n",
    "import textrazor\n",
    "\n",
    "# Configurer l'API TextRazor avec votre clé API\n",
    "textrazor.api_key = \"c36ea709408d3ea62a708692137374f8fdef5bd6\"\n",
    "\n",
    "# Créer un client TextRazor avec l'extracteur d'entités\n",
    "client = textrazor.TextRazor(extractors=[\"entities\"])\n",
    "\n",
    "# Définir le corpus\n",
    "corpus = (\"Émilie est passionnée par les voyages et la géographie. Elle rêve de découvrir les vastes étendues de la Sibérie \"\n",
    "          \"et de marcher le long du Grand Canyon aux États-Unis. En été, elle se rend souvent à Paris, où elle admire \"\n",
    "          \"la Tour Eiffel et flâne le long de la Seine. Lors de ses vacances, elle explore les plages exotiques de Bali \"\n",
    "          \"et les paysages époustouflants des Alpes suisses. En hiver, elle préfère se détendre dans les stations de ski \"\n",
    "          \"des Rocheuses canadiennes. Émilie prévoit également un voyage en Afrique du Sud pour observer les Big Five \"\n",
    "          \"dans le parc Kruger. Chaque destination lui offre de nouvelles aventures et découvertes passionnantes.\")\n",
    "\n",
    "\n",
    "# Analyser le corpus\n",
    "response = client.analyze(corpus)\n",
    "\n",
    "# Filtrer et afficher les entités géographiques\n",
    "print(\"Endroits géographiques trouvés dans le corpus:\\n\")\n",
    "for entity in response.entities():\n",
    "    if \"Place\" in entity.freebase_types:\n",
    "        print(\"Nom:\", entity.id)\n",
    "        print(\"Score de pertinence:\", entity.relevance_score)\n",
    "        print(\"Score de confiance:\", entity.confidence_score)\n",
    "        print(\"Types Freebase:\", entity.freebase_types)\n",
    "        print()\n",
    "\n",
    "\n",
    "\n"
   ]
  },
  {
   "cell_type": "markdown",
   "metadata": {},
   "source": [
    "## Détection de langue avec RapidAPI."
   ]
  },
  {
   "cell_type": "markdown",
   "metadata": {},
   "source": [
    "https://rapidapi.com"
   ]
  },
  {
   "cell_type": "code",
   "execution_count": null,
   "metadata": {},
   "outputs": [],
   "source": [
    "\n",
    "import requests\n",
    "\n",
    "# URL de l'API pour la détection de langue\n",
    "url = \"https://text-analysis12.p.rapidapi.com/language-detection/api/v1.1\"\n",
    "\n",
    "# Corpus à analyser\n",
    "corpus = (\"Les quatre saisons L’automne débute fin septembre. Durant cette saison, les feuilles des arbres tombent \"\n",
    "          \"et couvrent le sol d’un tapis brun, rouge et jaune. Le temps devient de plus en plus frais, il commence \"\n",
    "          \"à y avoir de la pluie et du vent. C’est le moment de sortir son manteau et son parapluie ! L’automne est aussi \"\n",
    "          \"la saison des récoltes : on ramasse le maïs, le tournesol, les pommes, le raisin…\")\n",
    "\n",
    "# Payload contenant le texte à analyser\n",
    "payload = { \"text\": corpus }\n",
    "\n",
    "# En-têtes requis pour l'API\n",
    "headers = {\n",
    "    \"content-type\": \"application/json\",\n",
    "    \"X-RapidAPI-Key\": \"e3af8c9654ap1572f0jsn5bb068cc2788\",\n",
    "    \"X-RapidAPI-Host\": \"text-analysis12.p.rapidapi.com\"\n",
    "}\n",
    "\n",
    "# Effectuer la requête POST à l'API\n",
    "response = requests.post(url, json=payload, headers=headers)\n",
    "\n",
    "# Afficher la réponse JSON\n",
    "print(response.json())\n"
   ]
  }
 ],
 "metadata": {
  "kernelspec": {
   "display_name": "Python 3.10.5 ('tac_venv': venv)",
   "language": "python",
   "name": "python3"
  },
  "language_info": {
   "codemirror_mode": {
    "name": "ipython",
    "version": 3
   },
   "file_extension": ".py",
   "mimetype": "text/x-python",
   "name": "python",
   "nbconvert_exporter": "python",
   "pygments_lexer": "ipython3",
   "version": "3.11.3"
  },
  "vscode": {
   "interpreter": {
    "hash": "b1932ab1d169b4769d1550e799423b6477588e745f266d79d9004c136c81607e"
   }
  }
 },
 "nbformat": 4,
 "nbformat_minor": 4
}
