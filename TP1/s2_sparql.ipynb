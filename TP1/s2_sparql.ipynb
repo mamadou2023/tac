{
 "cells": [
  {
   "cell_type": "markdown",
   "metadata": {},
   "source": [
    "# Interroger Wikidata avec SPARQL"
   ]
  },
  {
   "cell_type": "markdown",
   "metadata": {},
   "source": [
    "## Imports"
   ]
  },
  {
   "cell_type": "code",
   "execution_count": 1,
   "metadata": {},
   "outputs": [],
   "source": [
    "from datetime import datetime as dt\n",
    "from SPARQLWrapper import SPARQLWrapper, JSON"
   ]
  },
  {
   "cell_type": "markdown",
   "metadata": {},
   "source": [
    "## Récupérer des métadonnées littéraires avec SPARQL\" est concis et efficace."
   ]
  },
  {
   "cell_type": "code",
   "execution_count": null,
   "metadata": {},
   "outputs": [],
   "source": [
    "# Retrieve results from SPARQL\n",
    "from SPARQLWrapper import SPARQLWrapper, JSON\n",
    "\n",
    "endpoint = \"https://query.wikidata.org/bigdata/namespace/wdq/sparql\"\n",
    "sparql = SPARQLWrapper(endpoint)\n",
    "\n",
    "\n",
    "\n",
    "statement = \"\"\"\n",
    "SELECT ?scientifique ?scientifiqueLabel ?dateNaissance ?dateDeces\n",
    "WHERE {\n",
    "  ?scientifique wdt:P27 wd:Q31;             # Pays de citoyenneté : Belgique\n",
    "               wdt:P106 wd:Q901.            # Profession : Scientifique\n",
    "  OPTIONAL { ?scientifique wdt:P569 ?dateNaissance. }  # Date de naissance\n",
    "  OPTIONAL { ?scientifique wdt:P570 ?dateDeces. }      # Date de décès\n",
    "\n",
    "  SERVICE wikibase:label {\n",
    "    bd:serviceParam wikibase:language \"fr,en\" .\n",
    "    ?scientifique rdfs:label ?scientifiqueLabel .\n",
    "  }\n",
    "}\n",
    "LIMIT 20\n",
    "\"\"\"\n",
    "\n",
    "sparql.setQuery(statement)\n",
    "sparql.setReturnFormat(JSON)\n",
    "\n",
    "results = sparql.query().convert()\n",
    "\n",
    "rows = results['results']['bindings']\n",
    "print(f\"\\n{len(rows)} Scientifiques\\n\")\n",
    "print(rows[:20])\n"
   ]
  },
  {
   "cell_type": "markdown",
   "metadata": {},
   "source": [
    "## Données biographiques des scientifiques belges."
   ]
  },
  {
   "cell_type": "code",
   "execution_count": null,
   "metadata": {},
   "outputs": [],
   "source": [
    "\n",
    "sparql.setQuery(statement)\n",
    "sparql.setReturnFormat(JSON)\n",
    "\n",
    "results = sparql.query().convert()\n",
    "\n",
    "rows = results['results']['bindings']\n",
    "print(f\"\\n{len(rows)} Scientifiques trouvés\\n\")\n",
    "\n",
    "for row in rows:\n",
    "    scientifique_label = row.get('scientifiqueLabel', {}).get('value', 'N/A')\n",
    "    date_naissance = row.get('dateNaissance', {}).get('value', 'N/A')\n",
    "    date_deces = row.get('dateDeces', {}).get('value', 'N/A')\n",
    "\n",
    "    print(f\"Scientifique : {scientifique_label}\")\n",
    "    print(f\"Date de naissance : {date_naissance}\")\n",
    "    print(f\"Date de décès : {date_deces}\\n\")\n"
   ]
  },
  {
   "cell_type": "markdown",
   "metadata": {},
   "source": [
    "## Pour en savoir plus"
   ]
  },
  {
   "cell_type": "markdown",
   "metadata": {},
   "source": [
    "- [Le projet Wikidata](https://www.wikidata.org/wiki/Wikidata:Main_Page)\n",
    "- [Aide à la construction de requêtes](https://query.wikidata.org/)"
   ]
  }
 ],
 "metadata": {
  "kernelspec": {
   "display_name": "Python 3.10.5 ('venv_tac': venv)",
   "language": "python",
   "name": "python3"
  },
  "language_info": {
   "codemirror_mode": {
    "name": "ipython",
    "version": 3
   },
   "file_extension": ".py",
   "mimetype": "text/x-python",
   "name": "python",
   "nbconvert_exporter": "python",
   "pygments_lexer": "ipython3",
   "version": "3.11.3"
  },
  "vscode": {
   "interpreter": {
    "hash": "a942b0119f0c2604d4302f32a2a6e790f63eb4c9b0c297be7a26bd56fa8e02c6"
   }
  }
 },
 "nbformat": 4,
 "nbformat_minor": 4
}
