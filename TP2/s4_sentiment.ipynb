{
 "cells": [
  {
   "cell_type": "markdown",
   "metadata": {},
   "source": [
    "# Sentiment analysis \n",
    "\n",
    "## 1. Textblob-FR\n",
    "\n",
    "Documentation: https://textblob.readthedocs.io/en/dev/\n",
    "\n",
    "### Imports"
   ]
  },
  {
   "cell_type": "code",
   "execution_count": 35,
   "metadata": {},
   "outputs": [],
   "source": [
    "import sys\n",
    "import os\n",
    "from textblob import Blobber\n",
    "from textblob_fr import PatternTagger, PatternAnalyzer\n",
    "from textblob import TextBlob\n",
    "import nltk"
   ]
  },
  {
   "cell_type": "markdown",
   "metadata": {},
   "source": [
    "### Fonction d'analyse de sentiment."
   ]
  },
  {
   "cell_type": "code",
   "execution_count": 21,
   "metadata": {},
   "outputs": [],
   "source": [
    "tb = Blobber(pos_tagger=PatternTagger(), analyzer=PatternAnalyzer())\n",
    "\n",
    "def get_sentiment(input_text):\n",
    "    blob = tb(input_text)\n",
    "    polarity, subjectivity = blob.sentiment\n",
    "    polarity_perc = f\"{100*abs(polarity):.0f}\"\n",
    "    subjectivity_perc = f\"{100*subjectivity:.0f}\"\n",
    "    if polarity > 0:\n",
    "        polarity_str = f\"{polarity_perc}% positive\"\n",
    "    elif polarity < 0:\n",
    "        polarity_str = f\"{polarity_perc}% negative\"\n",
    "    else:\n",
    "        polarity_str = \"neutral\"\n",
    "    if subjectivity > 0:\n",
    "        subjectivity_str = f\"{subjectivity}% subjective\"\n",
    "    else:\n",
    "        subjectivity_str = \"perfectly objective\"\n",
    "    print(f\"This text is {polarity_str} and {subjectivity_str}.\")"
   ]
  },
  {
   "cell_type": "markdown",
   "metadata": {},
   "source": [
    "### Évaluer le sentiment"
   ]
  },
  {
   "cell_type": "code",
   "execution_count": 23,
   "metadata": {},
   "outputs": [],
   "source": [
    "# Choisir une année\n",
    "year = 1910"
   ]
  },
  {
   "cell_type": "code",
   "execution_count": 24,
   "metadata": {},
   "outputs": [
    {
     "data": {
      "text/plain": [
       "100"
      ]
     },
     "execution_count": 24,
     "metadata": {},
     "output_type": "execute_result"
    }
   ],
   "source": [
    "# Lister les fichiers de cette année\n",
    "data_path = '../data'\n",
    "txt_path = '../data/txt'\n",
    "txts = [f for f in os.listdir(txt_path) if os.path.isfile(os.path.join(txt_path, f)) and str(year) in f]\n",
    "len(txts)"
   ]
  },
  {
   "cell_type": "code",
   "execution_count": 25,
   "metadata": {},
   "outputs": [],
   "source": [
    "# Stocker le contenu de ces fichiers dans une liste\n",
    "content_list = []\n",
    "for txt in txts:\n",
    "    with open(os.path.join(txt_path, txt), 'r', encoding='utf-8') as f:\n",
    "        content_list.append(f.read())"
   ]
  },
  {
   "cell_type": "code",
   "execution_count": 26,
   "metadata": {},
   "outputs": [
    {
     "data": {
      "text/plain": [
       "100"
      ]
     },
     "execution_count": 26,
     "metadata": {},
     "output_type": "execute_result"
    }
   ],
   "source": [
    "# Compter le nombre d'éléments (=fichiers) dans la liste\n",
    "len(content_list)"
   ]
  },
  {
   "cell_type": "code",
   "execution_count": 28,
   "metadata": {},
   "outputs": [],
   "source": [
    "# Liste pour stocker les phrases\n",
    "selected_phrases = []\n",
    "\n",
    "# Compteur pour les documents et les phrases\n",
    "document_count = 0\n",
    "phrase_count = 0\n",
    "\n",
    "# Longueur minimale requise pour une phrase\n",
    "min_phrase_length = 30\n",
    "\n",
    "# Parcour des 10 premiers fichiers de la liste\n",
    "for document in content_list[:10]:\n",
    "    # Division du fichier en trois parties égales\n",
    "    part_length = len(document) // 3\n",
    "    \n",
    "    # Phrases au début\n",
    "    start_phrases = []\n",
    "    current_phrase = \"\"\n",
    "    for char in document[:part_length]:\n",
    "        current_phrase += char\n",
    "        if char in ['.', '!', '?']:\n",
    "            if len(current_phrase) >= min_phrase_length:\n",
    "                start_phrases.append(current_phrase)\n",
    "                current_phrase = \"\"\n",
    "    \n",
    "    # Phrases au milieu\n",
    "    middle_phrases = []\n",
    "    current_phrase = \"\"\n",
    "    for char in document[part_length:2*part_length]:\n",
    "        current_phrase += char\n",
    "        if char in ['.', '!', '?']:\n",
    "            if len(current_phrase) >= min_phrase_length:\n",
    "                middle_phrases.append(current_phrase)\n",
    "                current_phrase = \"\"\n",
    "    \n",
    "    # Phrases à la fin\n",
    "    end_phrases = []\n",
    "    current_phrase = \"\"\n",
    "    for char in document[2*part_length:]:\n",
    "        current_phrase += char\n",
    "        if char in ['.', '!', '?']:\n",
    "            if len(current_phrase) >= min_phrase_length:\n",
    "                end_phrases.append(current_phrase)\n",
    "                current_phrase = \"\"\n",
    "    \n",
    "    # Sélection de 3 phrases au début, 3 au milieu et 4 à la fin\n",
    "    selected_phrases.extend(start_phrases[:3])\n",
    "    selected_phrases.extend(middle_phrases[:3])\n",
    "    selected_phrases.extend(end_phrases[:4])\n",
    "    \n",
    "    # Mise à jour des compteurs\n",
    "    document_count += 1\n",
    "    phrase_count += len(start_phrases[:3]) + len(middle_phrases[:3]) + len(end_phrases[:4])\n",
    "    \n",
    "    if phrase_count >= 10:\n",
    "        break\n"
   ]
  },
  {
   "cell_type": "code",
   "execution_count": null,
   "metadata": {},
   "outputs": [],
   "source": [
    " selected_phrases"
   ]
  },
  {
   "cell_type": "code",
   "execution_count": 32,
   "metadata": {},
   "outputs": [],
   "source": [
    "text = \"\\n\".join(selected_phrases[:10])"
   ]
  },
  {
   "cell_type": "code",
   "execution_count": 38,
   "metadata": {},
   "outputs": [
    {
     "name": "stdout",
     "output_type": "stream",
     "text": [
      "Phrase 1:\n",
      "  Texte : Le Crayon en douille de métal avec dorure véritable, dans diverses fragrances telles que violette, idéale, œillet, jacinthe, lilas, orchidée, muguet, rose, Chypre, eau de Cologne, etc.\n",
      "  Polarité : 0.6\n",
      "  Subjectivité : 0.95\n",
      "\n",
      "Phrase 2:\n",
      "  Texte : La pièce : 5 francs ; de qualité extra et en douille de métal avec dorure véritable, y compris l’étui : 8 francs.\n",
      "  Polarité : 0.0\n",
      "  Subjectivité : 0.1\n",
      "\n",
      "Phrase 3:\n",
      "  Texte : 9853 EN VENTE DANS TOUTES LES BONNES MAISONS.\n",
      "  Polarité : 0.0\n",
      "  Subjectivité : 0.0\n",
      "\n",
      "Phrase 4:\n",
      "  Texte : Tout envoi se fera contre remboursement, ainsi que par timbres-poste, adressés au Dépôt général FIRST AMERICAN PERFUMERY OJA, Téléphone 7953.\n",
      "  Polarité : 0.125\n",
      "  Subjectivité : 0.16666666666666666\n",
      "\n",
      "Phrase 5:\n",
      "  Texte : JE BRUXELLES, 13, rue de la Madeleine, vous offre la chance et le bonheur par des moyens infaillibles.\n",
      "  Polarité : 0.0\n",
      "  Subjectivité : 0.0\n",
      "\n",
      "Phrase 6:\n",
      "  Texte : Pas de charlatanisme ! J’envoie ces 9E-0RET8 MERVEILLEUX GRATIS donc, vous ne risquez rien.\n",
      "  Polarité : 0.0\n",
      "  Subjectivité : 0.0\n",
      "\n",
      "Phrase 7:\n",
      "  Texte : Écrivez au Pr N'HUTTER, 18, RUE D’ESPAGNE, 18, Bruxelles.\n",
      "  Polarité : 0.0\n",
      "  Subjectivité : 0.0\n",
      "\n",
      "Phrase 8:\n",
      "  Texte : 1547 TABAC SEIGLE. Récolte 1900, 3,50 fr. le kilo ; Récolte 1907, 3,00 fr. le kilo ; Récolte 1908, 2,75 fr. le kilo.\n",
      "  Polarité : 0.0\n",
      "  Subjectivité : 0.0\n",
      "\n",
      "Phrase 9:\n",
      "  Texte : Par 5 kilos et contre remboursement. Gaspard K, fabricant, Saint-Léger, province de Luxembourg.\n",
      "  Polarité : 0.0\n",
      "  Subjectivité : 0.0\n",
      "\n",
      "Phrase 10:\n",
      "  Texte : 2459 MASSAGE MANUCURE. Mme STROBEL, DIPLÔMÉE. 11, rue Antoine Dansaert, Bourse, 2e étage.\n",
      "  Polarité : 0.0\n",
      "  Subjectivité : 0.0\n",
      "\n",
      "Phrase 11:\n",
      "  Texte : 2063 ÉPOQUES. Méthode radicale. Loyauté. Discrétion. Rue des Moissonneurs, 40, Etterbeek (la chasse).\n",
      "  Polarité : 0.0\n",
      "  Subjectivité : 0.0\n",
      "\n",
      "Phrase 12:\n",
      "  Texte : 4765 ACCOUCHEUSE. Diplômée de l'Université, 25 ans de pratique. Consultations discrètes. Accouchements, 10 jours. 10, rue du Chemin de Fer, Nord.\n",
      "  Polarité : 0.0\n",
      "  Subjectivité : 0.0\n",
      "\n",
      "Phrase 13:\n",
      "  Texte : 4878 MEUBLES. 38, RUE RUYSBROECK, 38. À vendre : plusieurs belles salles à manger, chambres à coucher, bureaux, bibliothèques, belles garnitures de salon, à très bon prix.\n",
      "  Polarité : 0.0\n",
      "  Subjectivité : 0.0\n",
      "\n",
      "Phrase 14:\n",
      "  Texte : 3135. 12, rue des Capucins, 12, Chapeaux Dames. Grand choix ½ saison. Prix avantageux, fleurs, fournitures, transformations.\n",
      "  Polarité : 0.5\n",
      "  Subjectivité : 1.0\n",
      "\n",
      "Phrase 15:\n",
      "  Texte : 629 MILANS. ACCOUCHEMENT. J’ACHÈTE comptant. Complets. Écrire Boîte 120, Bruxelles-Centre.\n",
      "  Polarité : 0.0\n",
      "  Subjectivité : 0.0\n",
      "\n"
     ]
    }
   ],
   "source": [
    "from textblob import TextBlob\n",
    "\n",
    "# Liste des phrases à analyser\n",
    "phrases = [\n",
    "    \"Le Crayon en douille de métal avec dorure véritable, dans diverses fragrances telles que violette, idéale, œillet, jacinthe, lilas, orchidée, muguet, rose, Chypre, eau de Cologne, etc.\",\n",
    "    \"La pièce : 5 francs ; de qualité extra et en douille de métal avec dorure véritable, y compris l’étui : 8 francs.\",\n",
    "    \"9853 EN VENTE DANS TOUTES LES BONNES MAISONS.\",\n",
    "    \"Tout envoi se fera contre remboursement, ainsi que par timbres-poste, adressés au Dépôt général FIRST AMERICAN PERFUMERY OJA, Téléphone 7953.\",\n",
    "    \"JE BRUXELLES, 13, rue de la Madeleine, vous offre la chance et le bonheur par des moyens infaillibles.\",\n",
    "    \"Pas de charlatanisme ! J’envoie ces 9E-0RET8 MERVEILLEUX GRATIS donc, vous ne risquez rien.\",\n",
    "    \"Écrivez au Pr N'HUTTER, 18, RUE D’ESPAGNE, 18, Bruxelles.\",\n",
    "    \"1547 TABAC SEIGLE. Récolte 1900, 3,50 fr. le kilo ; Récolte 1907, 3,00 fr. le kilo ; Récolte 1908, 2,75 fr. le kilo.\",\n",
    "    \"Par 5 kilos et contre remboursement. Gaspard K, fabricant, Saint-Léger, province de Luxembourg.\",\n",
    "    \"2459 MASSAGE MANUCURE. Mme STROBEL, DIPLÔMÉE. 11, rue Antoine Dansaert, Bourse, 2e étage.\",\n",
    "    \"2063 ÉPOQUES. Méthode radicale. Loyauté. Discrétion. Rue des Moissonneurs, 40, Etterbeek (la chasse).\",\n",
    "    \"4765 ACCOUCHEUSE. Diplômée de l'Université, 25 ans de pratique. Consultations discrètes. Accouchements, 10 jours. 10, rue du Chemin de Fer, Nord.\",\n",
    "    \"4878 MEUBLES. 38, RUE RUYSBROECK, 38. À vendre : plusieurs belles salles à manger, chambres à coucher, bureaux, bibliothèques, belles garnitures de salon, à très bon prix.\",\n",
    "    \"3135. 12, rue des Capucins, 12, Chapeaux Dames. Grand choix ½ saison. Prix avantageux, fleurs, fournitures, transformations.\",\n",
    "    \"629 MILANS. ACCOUCHEMENT. J’ACHÈTE comptant. Complets. Écrire Boîte 120, Bruxelles-Centre.\"\n",
    "]\n",
    "\n",
    "# Analyse des sentiments\n",
    "analyses = []\n",
    "\n",
    "for phrase in phrases:\n",
    "    blob = TextBlob(phrase)\n",
    "    polarite = blob.sentiment.polarity  # Score de polarité\n",
    "    subjectivite = blob.sentiment.subjectivity  # Score de subjectivité\n",
    "    analyses.append((polarite, subjectivite))\n",
    "\n",
    "# Affichage des résultats\n",
    "for i, (phrase, (polarite, subjectivite)) in enumerate(zip(phrases, analyses)):\n",
    "    print(f\"Phrase {i+1}:\")\n",
    "    print(f\"  Texte : {phrase}\")\n",
    "    print(f\"  Polarité : {polarite}\")\n",
    "    print(f\"  Subjectivité : {subjectivite}\\n\")\n"
   ]
  },
  {
   "cell_type": "code",
   "execution_count": 16,
   "metadata": {
    "tags": []
   },
   "outputs": [
    {
     "data": {
      "text/plain": [
       "(0.0, 0.0)"
      ]
     },
     "execution_count": 16,
     "metadata": {},
     "output_type": "execute_result"
    }
   ],
   "source": [
    "get_sentiment(\"Les journaux publient la dépêche suivante du camp de Frère, 31 : Les Boers ont établi un nouveau camp formé do 63 wagons.\")"
   ]
  },
  {
   "cell_type": "code",
   "execution_count": 11,
   "metadata": {
    "tags": []
   },
   "outputs": [
    {
     "name": "stdout",
     "output_type": "stream",
     "text": [
      "This text is 5% positive and 0.25000000000000006% subjective.\n"
     ]
    }
   ],
   "source": [
    "get_sentiment(text)"
   ]
  },
  {
   "cell_type": "markdown",
   "metadata": {},
   "source": [
    "## 2. Grâce au transformers\n",
    "\n",
    "Documentation: https://github.com/TheophileBlard/french-sentiment-analysis-with-bert\n",
    "\n",
    "**!!** Si le code ne tourne pas sur votre machine, vous pouvez le tester directement sur Google Colab en utilisant [ce lien](https://colab.research.google.com/github/TheophileBlard/french-sentiment-analysis-with-bert/blob/master/colab/french_sentiment_analysis_with_bert.ipynb) **!!**\n",
    "\n",
    "Le modèle peut également être testé en ligne sur [HuggingFace](https://huggingface.co/tblard/tf-allocine)\n",
    "\n",
    "### Installation des librairies et imports"
   ]
  },
  {
   "cell_type": "code",
   "execution_count": 12,
   "metadata": {},
   "outputs": [
    {
     "name": "stdout",
     "output_type": "stream",
     "text": [
      "^C\n"
     ]
    }
   ],
   "source": [
    "!pip install tensorflow\n",
    "!pip install sentencepiece\n",
    "!pip install transformers\n",
    "!pip install spacy-transformer\n",
    "\n",
    "from transformers import AutoTokenizer, TFAutoModelForSequenceClassification\n",
    "from transformers import pipeline"
   ]
  },
  {
   "cell_type": "markdown",
   "metadata": {},
   "source": [
    "### Chargement du modèle"
   ]
  },
  {
   "cell_type": "code",
   "execution_count": null,
   "metadata": {},
   "outputs": [],
   "source": [
    "tokenizer = AutoTokenizer.from_pretrained(\"tblard/tf-allocine\", use_pt=True)\n",
    "model = TFAutoModelForSequenceClassification.from_pretrained(\"tblard/tf-allocine\")\n",
    "\n",
    "sentiment_analyser = pipeline('sentiment-analysis', model=model, tokenizer=tokenizer)"
   ]
  },
  {
   "cell_type": "markdown",
   "metadata": {},
   "source": [
    "### Analyser le sentiment d'une phrase"
   ]
  },
  {
   "cell_type": "code",
   "execution_count": null,
   "metadata": {},
   "outputs": [],
   "source": [
    "sentiment_analyser(\"Ce journal est vraiment super intéressant.\")"
   ]
  },
  {
   "cell_type": "code",
   "execution_count": null,
   "metadata": {},
   "outputs": [],
   "source": [
    "sentiment_analyser(\"Cette phrase est négative et je ne suis pas content !\")"
   ]
  }
 ],
 "metadata": {
  "kernelspec": {
   "display_name": "Python 3.10.5 ('tac_venv': venv)",
   "language": "python",
   "name": "python3"
  },
  "language_info": {
   "codemirror_mode": {
    "name": "ipython",
    "version": 3
   },
   "file_extension": ".py",
   "mimetype": "text/x-python",
   "name": "python",
   "nbconvert_exporter": "python",
   "pygments_lexer": "ipython3",
   "version": "3.11.3"
  },
  "vscode": {
   "interpreter": {
    "hash": "b1932ab1d169b4769d1550e799423b6477588e745f266d79d9004c136c81607e"
   }
  }
 },
 "nbformat": 4,
 "nbformat_minor": 4
}
